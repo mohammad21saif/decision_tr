{
 "cells": [
  {
   "cell_type": "code",
   "execution_count": 21,
   "metadata": {},
   "outputs": [],
   "source": [
    "import torch\n",
    "import numpy as np\n",
    "from transformers import DecisionTransformerConfig, DecisionTransformerModel, Trainer, TrainingArguments\n",
    "from torch.utils.data import Dataset\n",
    "from dataclasses import dataclass\n",
    "from datasets import Dataset, load_from_disk, load_dataset\n",
    "import pickle\n",
    "import random"
   ]
  },
  {
   "cell_type": "code",
   "execution_count": 22,
   "metadata": {},
   "outputs": [],
   "source": [
    "# dataset = load_dataset(\"edbeeching/decision_transformer_gym_replay\", \"halfcheetah-expert-v2\")"
   ]
  },
  {
   "cell_type": "code",
   "execution_count": 23,
   "metadata": {},
   "outputs": [],
   "source": [
    "rewardmap_path = '/home/moonlab/decision_transformer/Active-sampling-multi-robot-learning/Main/trainingData/gaussian_mixture_training_data.pkl'"
   ]
  },
  {
   "cell_type": "code",
   "execution_count": 24,
   "metadata": {},
   "outputs": [],
   "source": [
    "device = torch.device(\"cuda\" if torch.cuda.is_available() else \"cpu\")\n",
    "rewardmap = pickle.load(open(rewardmap_path, 'rb'), encoding='latin1')\n",
    "rewardmap = torch.tensor(rewardmap, dtype=torch.float32).to(device)"
   ]
  },
  {
   "cell_type": "code",
   "execution_count": 25,
   "metadata": {},
   "outputs": [],
   "source": [
    "device = \"cpu\"\n",
    "num_robot = 3\n",
    "num_traj = 10"
   ]
  },
  {
   "cell_type": "markdown",
   "metadata": {},
   "source": [
    "Loading the Dataset"
   ]
  },
  {
   "cell_type": "code",
   "execution_count": 26,
   "metadata": {},
   "outputs": [],
   "source": [
    "dataset = load_from_disk('/home/moonlab/Active-sampling-multi-robot-learning/Main/dt')"
   ]
  },
  {
   "cell_type": "code",
   "execution_count": 27,
   "metadata": {},
   "outputs": [
    {
     "data": {
      "text/plain": [
       "DatasetDict({\n",
       "    train: Dataset({\n",
       "        features: ['states', 'actions', 'rewards', 'returns_to_go', 'timesteps'],\n",
       "        num_rows: 10\n",
       "    })\n",
       "})"
      ]
     },
     "execution_count": 27,
     "metadata": {},
     "output_type": "execute_result"
    }
   ],
   "source": [
    "dataset"
   ]
  },
  {
   "cell_type": "code",
   "execution_count": 28,
   "metadata": {},
   "outputs": [],
   "source": [
    "@dataclass\n",
    "class DTdatacollator:\n",
    "    return_tensors: str = \"pt\"\n",
    "    state_dim: int = num_robot*2  # size of state space\n",
    "    act_dim: int = num_robot*2  # size of action space\n",
    "\n",
    "    def __init__(self, dataset):\n",
    "        self.act_dim = len(dataset[0][\"actions\"][0])\n",
    "        self.state_dim = len(dataset[0][\"states\"][0])\n",
    "        self.dataset = dataset\n",
    "\n",
    "    # def _discount_cumsum(self, x, gamma):\n",
    "    #     discount_cumsum = np.zeros_like(x)\n",
    "    #     discount_cumsum[-1] = x[-1]\n",
    "    #     for t in reversed(range(x.shape[0] - 1)):\n",
    "    #         discount_cumsum[t] = x[t] + gamma * discount_cumsum[t + 1]\n",
    "    #     return discount_cumsum\n",
    "    \n",
    "    def __call__(self, batch):\n",
    "        states = torch.from_numpy(np.array([torch.tensor(item['states']) for item in batch]))\n",
    "        actions = torch.from_numpy(np.array([torch.tensor(item['actions']) for item in batch]))\n",
    "        rewards = torch.from_numpy(np.array([torch.tensor(item['rewards']) for item in batch]))\n",
    "        returns_to_go = torch.from_numpy(np.array([torch.tensor(item['returns_to_go']) for item in batch]))\n",
    "        timesteps = torch.from_numpy(np.array([torch.tensor(item['timesteps']) for item in batch]))\n",
    "        attention_mask = torch.ones((states.shape[0], states.shape[1]), dtype=torch.float32).to(device)\n",
    "\n",
    "\n",
    "        return {\n",
    "            \"states\": states,\n",
    "            \"actions\": actions,\n",
    "            \"rewards\": rewards,\n",
    "            \"returns_to_go\": returns_to_go,\n",
    "            \"timesteps\": timesteps,\n",
    "            \"attention_mask\": attention_mask,\n",
    "        }\n",
    "    "
   ]
  },
  {
   "cell_type": "code",
   "execution_count": 29,
   "metadata": {},
   "outputs": [],
   "source": [
    "# class DTdataset(Dataset):\n",
    "#     def __init__(self, states, actions, rewards, returns, timesteps):\n",
    "#         self.states = states\n",
    "#         self.actions = actions\n",
    "#         self.rewards = rewards\n",
    "#         self.returns = returns\n",
    "#         self.timesteps = timesteps\n",
    "\n",
    "#     def __getitem__(self, index):\n",
    "#         return self.states[index], self.actions[index], self.rewards[index], self.returns[index], self.timesteps[index]\n",
    "\n",
    "#     def __len__(self):\n",
    "#         return len(self.states)"
   ]
  },
  {
   "cell_type": "code",
   "execution_count": 30,
   "metadata": {},
   "outputs": [],
   "source": [
    "# # device = torch.device(\"cuda\" if torch.cuda.is_available() else \"cpu\")\n",
    "# device = torch.device(\"cpu\")\n",
    "# class Collation:\n",
    "#     def __init__(self, states, actions, rewards, returns_to_go, timesteps):\n",
    "#         self.states = states\n",
    "#         self.actions = actions\n",
    "#         self.rewards = rewards\n",
    "#         self.returns_to_go = returns_to_go\n",
    "#         self.timesteps = timesteps\n",
    "#         self.state_dim = states.shape[2]\n",
    "#         self.act_dim = actions.shape[2]\n",
    "#         self.device = device\n",
    "\n",
    "#     def __call__(self, batch):\n",
    "#         print('batch', len(batch),len(batch[0]))\n",
    "#         states = self.states\n",
    "#         actions = self.actions\n",
    "#         rewards = self.rewards\n",
    "#         returns_to_go = self.returns_to_go\n",
    "#         timesteps = self.timesteps\n",
    "#         attention_mask = torch.ones((states.shape[0], states.shape[1]), dtype=torch.float32).to(device)\n",
    "#         return {\n",
    "#             'states': states,\n",
    "#             'actions': actions,\n",
    "#             'rewards': rewards,\n",
    "#             'returns_to_go': returns_to_go,\n",
    "#             'timesteps': timesteps,\n",
    "#             'attention_mask': attention_mask\n",
    "#         }"
   ]
  },
  {
   "cell_type": "code",
   "execution_count": 31,
   "metadata": {},
   "outputs": [],
   "source": [
    "# collator = Collation(dataset['train'].features['states'], dataset['train'].features['actions'], dataset.['train'].features['rewards'], returns_to_go, timesteps)\n",
    "# collator([0, 1, 2, 3, 4]).keys()"
   ]
  },
  {
   "cell_type": "code",
   "execution_count": 32,
   "metadata": {},
   "outputs": [],
   "source": [
    "class TrainableDT(DecisionTransformerModel):\n",
    "    def __init__(self, config):\n",
    "        super().__init__(config)\n",
    "\n",
    "    def forward(self, **kwargs):\n",
    "        output = super().forward(**kwargs)\n",
    "        action_preds = output[1]\n",
    "        action_targets = kwargs[\"actions\"]\n",
    "        attention_mask = kwargs[\"attention_mask\"]\n",
    "        act_dim = action_preds.shape[2]\n",
    "        action_preds = action_preds.reshape(-1, act_dim)[attention_mask.reshape(-1) > 0]\n",
    "        action_targets = action_targets.reshape(-1, act_dim)[attention_mask.reshape(-1) > 0]\n",
    "        \n",
    "        loss = torch.mean((action_preds - action_targets) ** 2)\n",
    "\n",
    "        return {\"loss\": loss}\n",
    "\n",
    "    def original_forward(self, **kwargs):\n",
    "        return super().forward(**kwargs)"
   ]
  },
  {
   "cell_type": "code",
   "execution_count": 33,
   "metadata": {},
   "outputs": [],
   "source": [
    "\n",
    "collator = DTdatacollator(dataset[\"train\"])\n",
    "\n",
    "config = DecisionTransformerConfig(state_dim=collator.state_dim, act_dim=collator.act_dim)\n",
    "model = TrainableDT(config)"
   ]
  },
  {
   "cell_type": "code",
   "execution_count": 34,
   "metadata": {},
   "outputs": [
    {
     "name": "stderr",
     "output_type": "stream",
     "text": [
      " 95%|█████████▌| 525/550 [00:02<00:00, 172.58it/s]"
     ]
    },
    {
     "name": "stdout",
     "output_type": "stream",
     "text": [
      "{'loss': 0.4621, 'grad_norm': 1.376784324645996, 'learning_rate': 3.03030303030303e-05, 'epoch': 100.0}\n"
     ]
    },
    {
     "name": "stderr",
     "output_type": "stream",
     "text": [
      "100%|██████████| 550/550 [00:03<00:00, 178.70it/s]"
     ]
    },
    {
     "name": "stdout",
     "output_type": "stream",
     "text": [
      "{'train_runtime': 3.0771, 'train_samples_per_second': 357.483, 'train_steps_per_second': 178.742, 'train_loss': 0.4435250490361994, 'epoch': 110.0}\n"
     ]
    },
    {
     "name": "stderr",
     "output_type": "stream",
     "text": [
      "\n"
     ]
    },
    {
     "data": {
      "text/plain": [
       "TrainOutput(global_step=550, training_loss=0.4435250490361994, metrics={'train_runtime': 3.0771, 'train_samples_per_second': 357.483, 'train_steps_per_second': 178.742, 'total_flos': 2609474868000.0, 'train_loss': 0.4435250490361994, 'epoch': 110.0})"
      ]
     },
     "execution_count": 34,
     "metadata": {},
     "output_type": "execute_result"
    }
   ],
   "source": [
    "training_args = TrainingArguments(\n",
    "    output_dir=\"output/\",\n",
    "    remove_unused_columns=False,\n",
    "    num_train_epochs=110,\n",
    "    per_device_train_batch_size=2,\n",
    "    per_device_eval_batch_size=2,\n",
    "    learning_rate=3e-4,\n",
    "    weight_decay=1e-4,\n",
    "    warmup_ratio=0.1,\n",
    "    optim=\"adamw_torch\",\n",
    "    max_grad_norm=0.25,\n",
    ")\n",
    "# ['adamw_hf', 'adamw_torch', 'adamw_torch_fused', 'adamw_torch_xla', 'adamw_torch_npu_fused', 'adamw_apex_fused', 'adafactor', 'adamw_anyprecision', 'sgd', 'adagrad', 'adamw_bnb_8bit', 'adamw_8bit', 'lion_8bit', 'lion_32bit', 'paged_adamw_32bit', 'paged_adamw_8bit', 'paged_lion_32bit', 'paged_lion_8bit', 'rmsprop']\n",
    "\n",
    "trainer = Trainer(\n",
    "    model=model,                         \n",
    "    args=training_args,\n",
    "    train_dataset=dataset['train'],                          \n",
    "    data_collator=collator\n",
    ")\n",
    "\n",
    "trainer.train()"
   ]
  },
  {
   "cell_type": "code",
   "execution_count": 35,
   "metadata": {},
   "outputs": [],
   "source": [
    "max_ep_len = 100\n",
    "\n",
    "pred_states = torch.zeros((max_ep_len, num_robot*2))\n",
    "pred_actions = torch.zeros((max_ep_len, num_robot*2))\n",
    "pred_rewards = torch.zeros((max_ep_len, 1))\n"
   ]
  },
  {
   "cell_type": "code",
   "execution_count": 36,
   "metadata": {},
   "outputs": [],
   "source": [
    "# def get_action(model, states, actions, rewards, returns_to_go, timesteps):\n",
    "#     # This implementation does not condition on past rewards\n",
    "\n",
    "#     states = states.reshape(1, -1, model.config.state_dim)\n",
    "#     actions = actions.reshape(1, -1, model.config.act_dim)\n",
    "#     returns_to_go = returns_to_go.reshape(1, -1, 1)\n",
    "#     timesteps = timesteps.reshape(1, -1)\n",
    "\n",
    "#     states = states[:, -model.config.max_length :]\n",
    "#     actions = actions[:, -model.config.max_length :]\n",
    "#     returns_to_go = returns_to_go[:, -model.config.max_length :]\n",
    "#     timesteps = timesteps[:, -model.config.max_length :]\n",
    "#     padding = model.config.max_length - states.shape[1]\n",
    "#     # pad all tokens to sequence length\n",
    "#     attention_mask = torch.cat([torch.zeros(padding), torch.ones(states.shape[1])])\n",
    "#     attention_mask = attention_mask.to(dtype=torch.long).reshape(1, -1)\n",
    "#     states = torch.cat([torch.zeros((1, padding, model.config.state_dim)), states], dim=1).float()\n",
    "#     actions = torch.cat([torch.zeros((1, padding, model.config.act_dim)), actions], dim=1).float()\n",
    "#     returns_to_go = torch.cat([torch.zeros((1, padding, 1)), returns_to_go], dim=1).float()\n",
    "#     timesteps = torch.cat([torch.zeros((1, padding), dtype=torch.long), timesteps], dim=1)\n",
    "\n",
    "#     state_preds, action_preds, return_preds = model.original_forward(\n",
    "#         states=states,\n",
    "#         actions=actions,\n",
    "#         rewards=rewards,\n",
    "#         returns_to_go=returns_to_go,\n",
    "#         timesteps=timesteps,\n",
    "#         attention_mask=attention_mask,\n",
    "#         return_dict=False,\n",
    "#     )\n",
    "\n",
    "#     return action_preds[0, -1]"
   ]
  },
  {
   "cell_type": "code",
   "execution_count": 37,
   "metadata": {},
   "outputs": [],
   "source": [
    "# torch.cuda.empty_cache()"
   ]
  }
 ],
 "metadata": {
  "kernelspec": {
   "display_name": "marlas",
   "language": "python",
   "name": "python3"
  },
  "language_info": {
   "codemirror_mode": {
    "name": "ipython",
    "version": 3
   },
   "file_extension": ".py",
   "mimetype": "text/x-python",
   "name": "python",
   "nbconvert_exporter": "python",
   "pygments_lexer": "ipython3",
   "version": "3.10.12"
  }
 },
 "nbformat": 4,
 "nbformat_minor": 2
}
